{
 "cells": [
  {
   "cell_type": "markdown",
   "metadata": {},
   "source": [
    "### Setup"
   ]
  },
  {
   "cell_type": "code",
   "execution_count": 1,
   "metadata": {},
   "outputs": [],
   "source": [
    "# imports\n",
    "import requests\n",
    "import pandas as pd"
   ]
  },
  {
   "cell_type": "code",
   "execution_count": null,
   "metadata": {},
   "outputs": [],
   "source": [
    "# define urls (get url options from: 'https://gbfs.lyft.com/gbfs/2.3/bkn/gbfs.json')\n",
    "base_url = 'https://gbfs.lyft.com/gbfs/2.3/bkn/en/'\n",
    "station_info_url = base_url + 'station_information.json'"
   ]
  },
  {
   "cell_type": "markdown",
   "metadata": {},
   "source": [
    "## Grab Up-to-Date Stations Info"
   ]
  },
  {
   "cell_type": "code",
   "execution_count": 28,
   "metadata": {},
   "outputs": [],
   "source": [
    "# make api call\n",
    "station_response = requests.get(station_info_url)\n",
    "\n",
    "# if no error then jsonify response and make into df\n",
    "if station_response.status_code == 200:\n",
    "    station_data = station_response.json()\n",
    "    stations_df = pd.DataFrame(station_data['data']['stations'])\n",
    "else: \n",
    "    print(f'Error: {station_response.status_code}')"
   ]
  },
  {
   "cell_type": "code",
   "execution_count": 31,
   "metadata": {},
   "outputs": [
    {
     "data": {
      "text/html": [
       "<div>\n",
       "<style scoped>\n",
       "    .dataframe tbody tr th:only-of-type {\n",
       "        vertical-align: middle;\n",
       "    }\n",
       "\n",
       "    .dataframe tbody tr th {\n",
       "        vertical-align: top;\n",
       "    }\n",
       "\n",
       "    .dataframe thead th {\n",
       "        text-align: right;\n",
       "    }\n",
       "</style>\n",
       "<table border=\"1\" class=\"dataframe\">\n",
       "  <thead>\n",
       "    <tr style=\"text-align: right;\">\n",
       "      <th></th>\n",
       "      <th>short_name</th>\n",
       "      <th>name</th>\n",
       "      <th>region_id</th>\n",
       "      <th>lat</th>\n",
       "      <th>lon</th>\n",
       "    </tr>\n",
       "  </thead>\n",
       "  <tbody>\n",
       "    <tr>\n",
       "      <th>0</th>\n",
       "      <td>7082.08</td>\n",
       "      <td>23 Ave &amp; 31 St</td>\n",
       "      <td>71</td>\n",
       "      <td>40.774233</td>\n",
       "      <td>-73.912749</td>\n",
       "    </tr>\n",
       "    <tr>\n",
       "      <th>1</th>\n",
       "      <td>3460.06</td>\n",
       "      <td>2 Ave &amp; 37 St</td>\n",
       "      <td>71</td>\n",
       "      <td>40.656240</td>\n",
       "      <td>-74.009330</td>\n",
       "    </tr>\n",
       "    <tr>\n",
       "      <th>2</th>\n",
       "      <td>8472.06</td>\n",
       "      <td>Valentine Ave &amp; E 183 St</td>\n",
       "      <td>71</td>\n",
       "      <td>40.856987</td>\n",
       "      <td>-73.898237</td>\n",
       "    </tr>\n",
       "    <tr>\n",
       "      <th>3</th>\n",
       "      <td>5540.06</td>\n",
       "      <td>56 Dr &amp; 61 St</td>\n",
       "      <td>71</td>\n",
       "      <td>40.723680</td>\n",
       "      <td>-73.904580</td>\n",
       "    </tr>\n",
       "    <tr>\n",
       "      <th>4</th>\n",
       "      <td>8717.07</td>\n",
       "      <td>E 201 St &amp; Briggs Ave</td>\n",
       "      <td>71</td>\n",
       "      <td>40.872070</td>\n",
       "      <td>-73.884590</td>\n",
       "    </tr>\n",
       "  </tbody>\n",
       "</table>\n",
       "</div>"
      ],
      "text/plain": [
       "  short_name                      name region_id        lat        lon\n",
       "0    7082.08            23 Ave & 31 St        71  40.774233 -73.912749\n",
       "1    3460.06             2 Ave & 37 St        71  40.656240 -74.009330\n",
       "2    8472.06  Valentine Ave & E 183 St        71  40.856987 -73.898237\n",
       "3    5540.06             56 Dr & 61 St        71  40.723680 -73.904580\n",
       "4    8717.07     E 201 St & Briggs Ave        71  40.872070 -73.884590"
      ]
     },
     "execution_count": 31,
     "metadata": {},
     "output_type": "execute_result"
    }
   ],
   "source": [
    "# save output into stations df\n",
    "stations_df = stations_df[['short_name', 'name', 'region_id', 'lat', 'lon']]\n",
    "\n",
    "# display\n",
    "stations_df.head()"
   ]
  },
  {
   "cell_type": "code",
   "execution_count": 32,
   "metadata": {},
   "outputs": [
    {
     "data": {
      "text/plain": [
       "(2231, 5)"
      ]
     },
     "execution_count": 32,
     "metadata": {},
     "output_type": "execute_result"
    }
   ],
   "source": [
    "# check rows,columns\n",
    "stations_df.shape"
   ]
  },
  {
   "cell_type": "markdown",
   "metadata": {},
   "source": [
    "## Export Output"
   ]
  },
  {
   "cell_type": "code",
   "execution_count": 34,
   "metadata": {},
   "outputs": [],
   "source": [
    "# export output\n",
    "stations_df.to_csv('Output/stations.csv', index=False)"
   ]
  }
 ],
 "metadata": {
  "kernelspec": {
   "display_name": "base",
   "language": "python",
   "name": "python3"
  },
  "language_info": {
   "codemirror_mode": {
    "name": "ipython",
    "version": 3
   },
   "file_extension": ".py",
   "mimetype": "text/x-python",
   "name": "python",
   "nbconvert_exporter": "python",
   "pygments_lexer": "ipython3",
   "version": "3.12.4"
  }
 },
 "nbformat": 4,
 "nbformat_minor": 2
}
